{
  "cells": [
    {
      "cell_type": "markdown",
      "metadata": {
        "id": "view-in-github",
        "colab_type": "text"
      },
      "source": [
        "<a href=\"https://colab.research.google.com/github/diyavol76/DL_training/blob/main/courses/udacity_intro_to_tensorflow_for_deep_learning/l10c01_nlp_lstms_with_reviews_subwords_dataset.ipynb\" target=\"_parent\"><img src=\"https://colab.research.google.com/assets/colab-badge.svg\" alt=\"Open In Colab\"/></a>"
      ]
    },
    {
      "cell_type": "markdown",
      "metadata": {
        "id": "punL79CN7Ox6"
      },
      "source": [
        "##### Copyright 2020 The TensorFlow Authors."
      ]
    },
    {
      "cell_type": "code",
      "execution_count": null,
      "metadata": {
        "cellView": "form",
        "id": "_ckMIh7O7s6D"
      },
      "outputs": [],
      "source": [
        "#@title Licensed under the Apache License, Version 2.0 (the \"License\");\n",
        "# you may not use this file except in compliance with the License.\n",
        "# You may obtain a copy of the License at\n",
        "#\n",
        "# https://www.apache.org/licenses/LICENSE-2.0\n",
        "#\n",
        "# Unless required by applicable law or agreed to in writing, software\n",
        "# distributed under the License is distributed on an \"AS IS\" BASIS,\n",
        "# WITHOUT WARRANTIES OR CONDITIONS OF ANY KIND, either express or implied.\n",
        "# See the License for the specific language governing permissions and\n",
        "# limitations under the License."
      ]
    },
    {
      "cell_type": "markdown",
      "metadata": {
        "id": "hAclqSm3OOml"
      },
      "source": [
        "# Using LSTMs with the subwords dataset\n"
      ]
    },
    {
      "cell_type": "markdown",
      "metadata": {
        "id": "S5Uhzt6vVIB2"
      },
      "source": [
        "<table class=\"tfo-notebook-buttons\" align=\"left\">\n",
        "  <td>\n",
        "    <a target=\"_blank\" href=\"https://colab.research.google.com/github/tensorflow/examples/blob/master/courses/udacity_intro_to_tensorflow_for_deep_learning/l10c01_nlp_lstms_with_reviews_subwords_dataset.ipynb\"><img src=\"https://www.tensorflow.org/images/colab_logo_32px.png\" />Run in Google Colab</a>\n",
        "  </td>\n",
        "  <td>\n",
        "    <a target=\"_blank\" href=\"https://github.com/tensorflow/examples/blob/master/courses/udacity_intro_to_tensorflow_for_deep_learning/l10c01_nlp_lstms_with_reviews_subwords_dataset.ipynb\"><img src=\"https://www.tensorflow.org/images/GitHub-Mark-32px.png\" />View source on GitHub</a>\n",
        "  </td>\n",
        "</table>"
      ]
    },
    {
      "cell_type": "markdown",
      "metadata": {
        "id": "KTVx8__oGR9J"
      },
      "source": [
        "In this colab, you'll compare the results of using a model with an Embedding layer and then adding bidirectional LSTM layers.\n",
        "\n",
        "You'll work with the dataset of subwords for the combined Yelp and Amazon reviews.\n",
        "\n",
        "You'll use your models to predict the sentiment of new reviews."
      ]
    },
    {
      "cell_type": "code",
      "execution_count": 1,
      "metadata": {
        "id": "L62G7LTwNzoD"
      },
      "outputs": [],
      "source": [
        "import tensorflow as tf\n",
        "\n",
        "from tensorflow.keras.preprocessing.sequence import pad_sequences"
      ]
    },
    {
      "cell_type": "markdown",
      "metadata": {
        "id": "hLcl0QHvDjTV"
      },
      "source": [
        "# Get the dataset\n",
        "\n",
        "Start by getting the dataset containing Amazon and Yelp reviews, with their related sentiment (1 for positive, 0 for negative). This dataset was originally extracted from [here](https://www.kaggle.com/marklvl/sentiment-labelled-sentences-data-set).\n"
      ]
    },
    {
      "cell_type": "code",
      "execution_count": 2,
      "metadata": {
        "id": "nCOtiRJZbxCH",
        "outputId": "1e122cce-dca1-4f51-9610-2d36270d23de",
        "colab": {
          "base_uri": "https://localhost:8080/"
        }
      },
      "outputs": [
        {
          "output_type": "stream",
          "name": "stdout",
          "text": [
            "--2022-04-03 11:13:34--  https://drive.google.com/uc?id=13ySLC_ue6Umt9RJYSeM2t-V0kCv-4C-P\n",
            "Resolving drive.google.com (drive.google.com)... 108.177.112.138, 108.177.112.139, 108.177.112.101, ...\n",
            "Connecting to drive.google.com (drive.google.com)|108.177.112.138|:443... connected.\n",
            "HTTP request sent, awaiting response... 303 See Other\n",
            "Location: https://doc-08-ak-docs.googleusercontent.com/docs/securesc/ha0ro937gcuc7l7deffksulhg5h7mbp1/4eh6c936tnp44h724eefc9gfq5qn77kg/1648984350000/11118900490791463723/*/13ySLC_ue6Umt9RJYSeM2t-V0kCv-4C-P [following]\n",
            "Warning: wildcards not supported in HTTP.\n",
            "--2022-04-03 11:13:34--  https://doc-08-ak-docs.googleusercontent.com/docs/securesc/ha0ro937gcuc7l7deffksulhg5h7mbp1/4eh6c936tnp44h724eefc9gfq5qn77kg/1648984350000/11118900490791463723/*/13ySLC_ue6Umt9RJYSeM2t-V0kCv-4C-P\n",
            "Resolving doc-08-ak-docs.googleusercontent.com (doc-08-ak-docs.googleusercontent.com)... 142.250.152.132, 2607:f8b0:4001:c56::84\n",
            "Connecting to doc-08-ak-docs.googleusercontent.com (doc-08-ak-docs.googleusercontent.com)|142.250.152.132|:443... connected.\n",
            "HTTP request sent, awaiting response... 200 OK\n",
            "Length: 127831 (125K) [text/csv]\n",
            "Saving to: ‘/tmp/sentiment.csv’\n",
            "\n",
            "/tmp/sentiment.csv  100%[===================>] 124.83K  --.-KB/s    in 0.001s  \n",
            "\n",
            "2022-04-03 11:13:35 (113 MB/s) - ‘/tmp/sentiment.csv’ saved [127831/127831]\n",
            "\n"
          ]
        }
      ],
      "source": [
        "!wget --no-check-certificate \\\n",
        "    https://drive.google.com/uc?id=13ySLC_ue6Umt9RJYSeM2t-V0kCv-4C-P -O /tmp/sentiment.csv"
      ]
    },
    {
      "cell_type": "code",
      "execution_count": 3,
      "metadata": {
        "id": "XuqER_KMD-xS"
      },
      "outputs": [],
      "source": [
        "import pandas as pd\n",
        "\n",
        "dataset = pd.read_csv('/tmp/sentiment.csv')\n",
        "\n",
        "# Extract out sentences and labels\n",
        "sentences = dataset['text'].tolist()\n",
        "labels = dataset['sentiment'].tolist()"
      ]
    },
    {
      "cell_type": "code",
      "execution_count": 4,
      "metadata": {
        "id": "Tbsx1T2CXPNO",
        "outputId": "ae22281c-6868-480f-e8ef-f29f23e55cc0",
        "colab": {
          "base_uri": "https://localhost:8080/"
        }
      },
      "outputs": [
        {
          "output_type": "stream",
          "name": "stdout",
          "text": [
            "So there is no way for me to plug it in here in the US unless I go by a converter.\n",
            "0\n",
            "\n",
            "\n",
            "Good case Excellent value.\n",
            "1\n",
            "\n",
            "\n"
          ]
        }
      ],
      "source": [
        "# Print some example sentences and labels\n",
        "for x in range(2):\n",
        "  print(sentences[x])\n",
        "  print(labels[x])\n",
        "  print(\"\\n\")"
      ]
    },
    {
      "cell_type": "markdown",
      "metadata": {
        "id": "33AthPiALFZK"
      },
      "source": [
        "#Create a subwords dataset\n",
        "\n",
        "We will use the Amazon and Yelp reviews dataset with tensorflow_datasets's SubwordTextEncoder functionality. \n",
        "\n",
        "SubwordTextEncoder.build_from_corpus() will create a tokenizer for us. You could also use this functionality to get subwords from a much larger corpus of text as well, but we'll just use our existing dataset here.\n",
        "\n",
        "We'll create a subword vocab_size of only the 1,000 most common subwords, as well as cutting off each subword to be at most 5 characters.\n",
        "\n",
        "Check out the related documentation for the the subword text encoder [here](https://www.tensorflow.org/datasets/api_docs/python/tfds/features/text/SubwordTextEncoder#build_from_corpus)."
      ]
    },
    {
      "cell_type": "code",
      "execution_count": 5,
      "metadata": {
        "id": "6NaicNCcLYyf",
        "outputId": "c92bb893-df6b-4864-8cfc-feee9b1bbeb5",
        "colab": {
          "base_uri": "https://localhost:8080/"
        }
      },
      "outputs": [
        {
          "output_type": "stream",
          "name": "stdout",
          "text": [
            "Vocab size is  999\n"
          ]
        }
      ],
      "source": [
        "import tensorflow_datasets as tfds\n",
        "\n",
        "vocab_size = 1000\n",
        "tokenizer = tfds.deprecated.text.SubwordTextEncoder.build_from_corpus(sentences, vocab_size, max_subword_length=5)\n",
        "\n",
        "# How big is the vocab size?\n",
        "print(\"Vocab size is \", tokenizer.vocab_size)"
      ]
    },
    {
      "cell_type": "code",
      "execution_count": 6,
      "metadata": {
        "id": "xvRVoeIVLevh",
        "outputId": "b81d7ccc-e364-4e4d-cec3-4b15a25a3c7b",
        "colab": {
          "base_uri": "https://localhost:8080/"
        }
      },
      "outputs": [
        {
          "output_type": "stream",
          "name": "stdout",
          "text": [
            "I have to jiggle the plug to get it to line up right to get decent volume.\n",
            "[4, 31, 6, 849, 162, 450, 12, 1, 600, 438, 775, 6, 175, 14, 6, 55, 213, 159, 474, 775, 6, 175, 614, 380, 295, 148, 72, 789]\n"
          ]
        }
      ],
      "source": [
        "# Check that the tokenizer works appropriately\n",
        "num = 5\n",
        "print(sentences[num])\n",
        "encoded = tokenizer.encode(sentences[num])\n",
        "print(encoded)"
      ]
    },
    {
      "cell_type": "code",
      "execution_count": 7,
      "metadata": {
        "id": "G_vacTCifklV",
        "outputId": "6341fce1-3c6a-4694-cf1b-008283c77e68",
        "colab": {
          "base_uri": "https://localhost:8080/"
        }
      },
      "outputs": [
        {
          "output_type": "stream",
          "name": "stdout",
          "text": [
            "I \n",
            "have \n",
            "to \n",
            "j\n",
            "ig\n",
            "gl\n",
            "e \n",
            "the \n",
            "pl\n",
            "ug\n",
            " \n",
            "to \n",
            "get \n",
            "it \n",
            "to \n",
            "li\n",
            "ne \n",
            "up \n",
            "right\n",
            " \n",
            "to \n",
            "get \n",
            "dec\n",
            "ent \n",
            "vo\n",
            "lu\n",
            "me\n",
            ".\n"
          ]
        }
      ],
      "source": [
        "# Separately print out each subword, decoded\n",
        "for i in encoded:\n",
        "  print(tokenizer.decode([i]))"
      ]
    },
    {
      "cell_type": "markdown",
      "metadata": {
        "id": "cT528cptLupl"
      },
      "source": [
        "## Replace sentence data with encoded subwords\n",
        "\n",
        "Now, we'll create the sequences to be used for training by actually encoding each of the individual sentences. This is equivalent to `text_to_sequences` with the `Tokenizer` we used in earlier exercises."
      ]
    },
    {
      "cell_type": "code",
      "execution_count": 8,
      "metadata": {
        "id": "lkseMhxjL09F"
      },
      "outputs": [],
      "source": [
        "for i, sentence in enumerate(sentences):\n",
        "  sentences[i] = tokenizer.encode(sentence)"
      ]
    },
    {
      "cell_type": "code",
      "execution_count": 9,
      "metadata": {
        "id": "y21yRuzmL43U",
        "outputId": "7fa2fb54-bf0c-4046-f577-d67820a9f9df",
        "colab": {
          "base_uri": "https://localhost:8080/"
        }
      },
      "outputs": [
        {
          "output_type": "stream",
          "name": "stdout",
          "text": [
            "[4, 31, 6, 849, 162, 450, 12, 1, 600, 438, 775, 6, 175, 14, 6, 55, 213, 159, 474, 775, 6, 175, 614, 380, 295, 148, 72, 789]\n"
          ]
        }
      ],
      "source": [
        "# Check the sentences are appropriately replaced\n",
        "print(sentences[5])"
      ]
    },
    {
      "cell_type": "markdown",
      "metadata": {
        "id": "8HrcPHESMBMs"
      },
      "source": [
        "## Final pre-processing\n",
        "\n",
        "Before training, we still need to pad the sequences, as well as split into training and test sets."
      ]
    },
    {
      "cell_type": "code",
      "execution_count": 10,
      "metadata": {
        "id": "50-hTsogLSL-"
      },
      "outputs": [],
      "source": [
        "import numpy as np\n",
        "\n",
        "max_length = 50\n",
        "trunc_type='post'\n",
        "padding_type='post'\n",
        "\n",
        "# Pad all sequences\n",
        "sequences_padded = pad_sequences(sentences, maxlen=max_length, \n",
        "                                 padding=padding_type, truncating=trunc_type)\n",
        "\n",
        "# Separate out the sentences and labels into training and test sets\n",
        "training_size = int(len(sentences) * 0.8)\n",
        "\n",
        "training_sequences = sequences_padded[0:training_size]\n",
        "testing_sequences = sequences_padded[training_size:]\n",
        "training_labels = labels[0:training_size]\n",
        "testing_labels = labels[training_size:]\n",
        "\n",
        "# Make labels into numpy arrays for use with the network later\n",
        "training_labels_final = np.array(training_labels)\n",
        "testing_labels_final = np.array(testing_labels)"
      ]
    },
    {
      "cell_type": "markdown",
      "metadata": {
        "id": "PahZm7YEQ8EI"
      },
      "source": [
        "# Create the model using an Embedding"
      ]
    },
    {
      "cell_type": "code",
      "execution_count": 11,
      "metadata": {
        "id": "c_nyQeI0RCCv",
        "outputId": "cb92d15c-0427-4bf6-b9eb-58879dc1293c",
        "colab": {
          "base_uri": "https://localhost:8080/"
        }
      },
      "outputs": [
        {
          "output_type": "stream",
          "name": "stdout",
          "text": [
            "Model: \"sequential\"\n",
            "_________________________________________________________________\n",
            " Layer (type)                Output Shape              Param #   \n",
            "=================================================================\n",
            " embedding (Embedding)       (None, 50, 16)            16000     \n",
            "                                                                 \n",
            " global_average_pooling1d (G  (None, 16)               0         \n",
            " lobalAveragePooling1D)                                          \n",
            "                                                                 \n",
            " dense (Dense)               (None, 6)                 102       \n",
            "                                                                 \n",
            " dense_1 (Dense)             (None, 1)                 7         \n",
            "                                                                 \n",
            "=================================================================\n",
            "Total params: 16,109\n",
            "Trainable params: 16,109\n",
            "Non-trainable params: 0\n",
            "_________________________________________________________________\n"
          ]
        }
      ],
      "source": [
        "embedding_dim = 16\n",
        "\n",
        "model = tf.keras.Sequential([\n",
        "    tf.keras.layers.Embedding(vocab_size, embedding_dim, input_length=max_length),\n",
        "    tf.keras.layers.GlobalAveragePooling1D(), \n",
        "    tf.keras.layers.Dense(6, activation='relu'),\n",
        "    tf.keras.layers.Dense(1, activation='sigmoid')\n",
        "])\n",
        "\n",
        "model.summary()"
      ]
    },
    {
      "cell_type": "markdown",
      "metadata": {
        "id": "3WRXrx8BRO2L"
      },
      "source": [
        "# Train the model"
      ]
    },
    {
      "cell_type": "code",
      "execution_count": 12,
      "metadata": {
        "id": "oBKyVYvxRQ_9",
        "outputId": "2995f9c9-3d89-4e3f-8f0d-aec478c2661f",
        "colab": {
          "base_uri": "https://localhost:8080/"
        }
      },
      "outputs": [
        {
          "output_type": "stream",
          "name": "stdout",
          "text": [
            "Epoch 1/30\n",
            "50/50 [==============================] - 9s 25ms/step - loss: 0.6929 - accuracy: 0.5009 - val_loss: 0.6956 - val_accuracy: 0.4110\n",
            "Epoch 2/30\n",
            "50/50 [==============================] - 1s 14ms/step - loss: 0.6904 - accuracy: 0.5323 - val_loss: 0.6961 - val_accuracy: 0.4361\n",
            "Epoch 3/30\n",
            "50/50 [==============================] - 0s 8ms/step - loss: 0.6842 - accuracy: 0.5662 - val_loss: 0.6920 - val_accuracy: 0.5063\n",
            "Epoch 4/30\n",
            "50/50 [==============================] - 0s 8ms/step - loss: 0.6739 - accuracy: 0.6077 - val_loss: 0.6850 - val_accuracy: 0.5063\n",
            "Epoch 5/30\n",
            "50/50 [==============================] - 0s 7ms/step - loss: 0.6586 - accuracy: 0.6598 - val_loss: 0.6695 - val_accuracy: 0.6040\n",
            "Epoch 6/30\n",
            "50/50 [==============================] - 0s 7ms/step - loss: 0.6355 - accuracy: 0.7483 - val_loss: 0.6616 - val_accuracy: 0.5539\n",
            "Epoch 7/30\n",
            "50/50 [==============================] - 0s 8ms/step - loss: 0.6069 - accuracy: 0.7577 - val_loss: 0.6397 - val_accuracy: 0.6366\n",
            "Epoch 8/30\n",
            "50/50 [==============================] - 0s 8ms/step - loss: 0.5707 - accuracy: 0.7866 - val_loss: 0.6174 - val_accuracy: 0.6692\n",
            "Epoch 9/30\n",
            "50/50 [==============================] - 0s 8ms/step - loss: 0.5319 - accuracy: 0.8085 - val_loss: 0.5751 - val_accuracy: 0.7719\n",
            "Epoch 10/30\n",
            "50/50 [==============================] - 0s 8ms/step - loss: 0.4932 - accuracy: 0.8380 - val_loss: 0.5555 - val_accuracy: 0.7619\n",
            "Epoch 11/30\n",
            "50/50 [==============================] - 0s 9ms/step - loss: 0.4551 - accuracy: 0.8562 - val_loss: 0.5462 - val_accuracy: 0.7444\n",
            "Epoch 12/30\n",
            "50/50 [==============================] - 0s 7ms/step - loss: 0.4212 - accuracy: 0.8531 - val_loss: 0.5187 - val_accuracy: 0.7845\n",
            "Epoch 13/30\n",
            "50/50 [==============================] - 0s 8ms/step - loss: 0.3936 - accuracy: 0.8619 - val_loss: 0.5128 - val_accuracy: 0.7519\n",
            "Epoch 14/30\n",
            "50/50 [==============================] - 0s 7ms/step - loss: 0.3669 - accuracy: 0.8719 - val_loss: 0.5213 - val_accuracy: 0.7469\n",
            "Epoch 15/30\n",
            "50/50 [==============================] - 0s 8ms/step - loss: 0.3428 - accuracy: 0.8788 - val_loss: 0.5050 - val_accuracy: 0.7544\n",
            "Epoch 16/30\n",
            "50/50 [==============================] - 0s 8ms/step - loss: 0.3231 - accuracy: 0.8883 - val_loss: 0.5032 - val_accuracy: 0.7544\n",
            "Epoch 17/30\n",
            "50/50 [==============================] - 0s 8ms/step - loss: 0.3050 - accuracy: 0.8952 - val_loss: 0.5072 - val_accuracy: 0.7544\n",
            "Epoch 18/30\n",
            "50/50 [==============================] - 0s 7ms/step - loss: 0.2901 - accuracy: 0.8933 - val_loss: 0.5259 - val_accuracy: 0.7494\n",
            "Epoch 19/30\n",
            "50/50 [==============================] - 0s 8ms/step - loss: 0.2751 - accuracy: 0.9014 - val_loss: 0.5065 - val_accuracy: 0.7519\n",
            "Epoch 20/30\n",
            "50/50 [==============================] - 0s 8ms/step - loss: 0.2631 - accuracy: 0.9077 - val_loss: 0.5211 - val_accuracy: 0.7494\n",
            "Epoch 21/30\n",
            "50/50 [==============================] - 0s 7ms/step - loss: 0.2508 - accuracy: 0.9096 - val_loss: 0.5236 - val_accuracy: 0.7494\n",
            "Epoch 22/30\n",
            "50/50 [==============================] - 0s 7ms/step - loss: 0.2392 - accuracy: 0.9171 - val_loss: 0.5276 - val_accuracy: 0.7444\n",
            "Epoch 23/30\n",
            "50/50 [==============================] - 0s 8ms/step - loss: 0.2290 - accuracy: 0.9215 - val_loss: 0.5394 - val_accuracy: 0.7494\n",
            "Epoch 24/30\n",
            "50/50 [==============================] - 0s 9ms/step - loss: 0.2195 - accuracy: 0.9222 - val_loss: 0.5247 - val_accuracy: 0.7494\n",
            "Epoch 25/30\n",
            "50/50 [==============================] - 1s 12ms/step - loss: 0.2108 - accuracy: 0.9297 - val_loss: 0.5370 - val_accuracy: 0.7494\n",
            "Epoch 26/30\n",
            "50/50 [==============================] - 0s 8ms/step - loss: 0.2038 - accuracy: 0.9297 - val_loss: 0.5449 - val_accuracy: 0.7419\n",
            "Epoch 27/30\n",
            "50/50 [==============================] - 0s 8ms/step - loss: 0.1952 - accuracy: 0.9328 - val_loss: 0.5466 - val_accuracy: 0.7569\n",
            "Epoch 28/30\n",
            "50/50 [==============================] - 0s 8ms/step - loss: 0.1897 - accuracy: 0.9347 - val_loss: 0.5685 - val_accuracy: 0.7444\n",
            "Epoch 29/30\n",
            "50/50 [==============================] - 0s 8ms/step - loss: 0.1821 - accuracy: 0.9397 - val_loss: 0.5724 - val_accuracy: 0.7444\n",
            "Epoch 30/30\n",
            "50/50 [==============================] - 0s 8ms/step - loss: 0.1761 - accuracy: 0.9448 - val_loss: 0.5892 - val_accuracy: 0.7469\n"
          ]
        }
      ],
      "source": [
        "num_epochs = 30\n",
        "model.compile(loss='binary_crossentropy',optimizer='adam',metrics=['accuracy'])\n",
        "history = model.fit(training_sequences, training_labels_final, epochs=num_epochs, validation_data=(testing_sequences, testing_labels_final))\n"
      ]
    },
    {
      "cell_type": "markdown",
      "metadata": {
        "id": "HhLPbUl2AZ0y"
      },
      "source": [
        "# Plot the accuracy and loss"
      ]
    },
    {
      "cell_type": "code",
      "execution_count": 13,
      "metadata": {
        "id": "jzBM1PpJAYfD",
        "outputId": "f0f32b06-749a-4640-8f5f-e1eae1c2189e",
        "colab": {
          "base_uri": "https://localhost:8080/",
          "height": 541
        }
      },
      "outputs": [
        {
          "output_type": "display_data",
          "data": {
            "text/plain": [
              "<Figure size 432x288 with 1 Axes>"
            ],
            "image/png": "[encoded data removed]"
          },
          "metadata": {
            "needs_background": "light"
          }
        },
        {
          "output_type": "display_data",
          "data": {
            "text/plain": [
              "<Figure size 432x288 with 1 Axes>"
            ],
            "image/png": "[encoded data removed]"
          },
          "metadata": {
            "needs_background": "light"
          }
        }
      ],
      "source": [
        "import matplotlib.pyplot as plt\n",
        "\n",
        "\n",
        "def plot_graphs(history, string):\n",
        "  plt.plot(history.history[string])\n",
        "  plt.plot(history.history['val_'+string])\n",
        "  plt.xlabel(\"Epochs\")\n",
        "  plt.ylabel(string)\n",
        "  plt.legend([string, 'val_'+string])\n",
        "  plt.show()\n",
        "  \n",
        "plot_graphs(history, \"accuracy\")\n",
        "plot_graphs(history, \"loss\")"
      ]
    },
    {
      "cell_type": "markdown",
      "metadata": {
        "id": "Fwr5inBiWffb"
      },
      "source": [
        "# Define a function to predict the sentiment of reviews\n",
        "\n",
        "We'll be creating models with some differences and will use each model to predict the sentiment of some new reviews.\n",
        "\n",
        "To save time, create a function that will take in a model and some new reviews, and print out the sentiment of each reviews.\n",
        "\n",
        "The higher the sentiment value is to 1, the more positive the review is."
      ]
    },
    {
      "cell_type": "code",
      "execution_count": 14,
      "metadata": {
        "id": "aPNOYiiaha2y"
      },
      "outputs": [],
      "source": [
        "# Define a function to take a series of reviews\n",
        "# and predict whether each one is a positive or negative review\n",
        "\n",
        "# max_length = 100 # previously defined\n",
        "\n",
        "def predict_review(model, new_sentences, maxlen=max_length, show_padded_sequence=True ):\n",
        "  # Keep the original sentences so that we can keep using them later\n",
        "  # Create an array to hold the encoded sequences\n",
        "  new_sequences = []\n",
        "\n",
        "  # Convert the new reviews to sequences\n",
        "  for i, frvw in enumerate(new_sentences):\n",
        "    new_sequences.append(tokenizer.encode(frvw))\n",
        "\n",
        "  trunc_type='post' \n",
        "  padding_type='post'\n",
        "\n",
        "  # Pad all sequences for the new reviews\n",
        "  new_reviews_padded = pad_sequences(new_sequences, maxlen=max_length, \n",
        "                                 padding=padding_type, truncating=trunc_type)             \n",
        "\n",
        "  classes = model.predict(new_reviews_padded)\n",
        "\n",
        "  # The closer the class is to 1, the more positive the review is\n",
        "  for x in range(len(new_sentences)):\n",
        "    \n",
        "    # We can see the padded sequence if desired\n",
        "    # Print the sequence\n",
        "    if (show_padded_sequence):\n",
        "      print(new_reviews_padded[x])\n",
        "    # Print the review as text\n",
        "    print(new_sentences[x])\n",
        "    # Print its predicted class\n",
        "    print(classes[x])\n",
        "    print(\"\\n\")"
      ]
    },
    {
      "cell_type": "code",
      "execution_count": 15,
      "metadata": {
        "id": "Qg-maex27KPW",
        "outputId": "39ad47f7-8913-4914-87ed-f6e13c16e070",
        "colab": {
          "base_uri": "https://localhost:8080/"
        }
      },
      "outputs": [
        {
          "output_type": "stream",
          "name": "stdout",
          "text": [
            "[  4 281  16  25   0   0   0   0   0   0   0   0   0   0   0   0   0   0\n",
            "   0   0   0   0   0   0   0   0   0   0   0   0   0   0   0   0   0   0\n",
            "   0   0   0   0   0   0   0   0   0   0   0   0   0   0]\n",
            "I love this phone\n",
            "[0.89203906]\n",
            "\n",
            "\n",
            "[812 227 864 100 775   9 525 843   0   0   0   0   0   0   0   0   0   0\n",
            "   0   0   0   0   0   0   0   0   0   0   0   0   0   0   0   0   0   0\n",
            "   0   0   0   0   0   0   0   0   0   0   0   0   0   0]\n",
            "Everything was cold\n",
            "[0.10166322]\n",
            "\n",
            "\n",
            "[812 227 864 100 775   9 109   8 333 731  24  61   4 171  59  77   0   0\n",
            "   0   0   0   0   0   0   0   0   0   0   0   0   0   0   0   0   0   0\n",
            "   0   0   0   0   0   0   0   0   0   0   0   0   0   0]\n",
            "Everything was hot exactly as I wanted\n",
            "[0.31453162]\n",
            "\n",
            "\n",
            "[812 227 864 100 775   9 157 359 853   0   0   0   0   0   0   0   0   0\n",
            "   0   0   0   0   0   0   0   0   0   0   0   0   0   0   0   0   0   0\n",
            "   0   0   0   0   0   0   0   0   0   0   0   0   0   0]\n",
            "Everything was green\n",
            "[0.09006726]\n",
            "\n",
            "\n",
            "[  1 109 228 540 237 635 241 423 340  89 298   0   0   0   0   0   0   0\n",
            "   0   0   0   0   0   0   0   0   0   0   0   0   0   0   0   0   0   0\n",
            "   0   0   0   0   0   0   0   0   0   0   0   0   0   0]\n",
            "the host seated us immediately\n",
            "[0.4257454]\n",
            "\n",
            "\n",
            "[154 242  47 635 341  12 569 547 147 319 775 125  85   0   0   0   0   0\n",
            "   0   0   0   0   0   0   0   0   0   0   0   0   0   0   0   0   0   0\n",
            "   0   0   0   0   0   0   0   0   0   0   0   0   0   0]\n",
            "they gave us free chocolate cake\n",
            "[0.7103803]\n",
            "\n",
            "\n",
            "[158 190 853 782   8 607 775 210 232 146 775 470  67 305 101  15   1 328\n",
            " 296  26  19   1 661 641 195   0   0   0   0   0   0   0   0   0   0   0\n",
            "   0   0   0   0   0   0   0   0   0   0   0   0   0   0]\n",
            "we couldn't hear each other talk because of the shouting in the kitchen\n",
            "[0.01071048]\n",
            "\n",
            "\n"
          ]
        }
      ],
      "source": [
        "# Use the model to predict some reviews   \n",
        "fake_reviews = [\"I love this phone\", \n",
        "                \"Everything was cold\",\n",
        "                \"Everything was hot exactly as I wanted\", \n",
        "                \"Everything was green\", \n",
        "                \"the host seated us immediately\",\n",
        "                \"they gave us free chocolate cake\", \n",
        "                \"we couldn't hear each other talk because of the shouting in the kitchen\"\n",
        "              ]\n",
        "\n",
        "predict_review(model, fake_reviews)\n"
      ]
    },
    {
      "cell_type": "markdown",
      "metadata": {
        "id": "ycJKbMq3K4iy"
      },
      "source": [
        "# Define a function to train and show the results of models with different layers\n",
        "\n",
        "In the rest of this colab, we will define models, and then see the results. \n",
        "\n",
        "Define a function that will take the model, compile it, train it, graph the accuracy and loss, and then predict some results."
      ]
    },
    {
      "cell_type": "code",
      "execution_count": 16,
      "metadata": {
        "id": "PevUcINXK3gn"
      },
      "outputs": [],
      "source": [
        "def fit_model_now (model, sentences) :\n",
        "  model.compile(loss='binary_crossentropy',optimizer='adam',metrics=['accuracy'])\n",
        "  model.summary()\n",
        "  history = model.fit(training_sequences, training_labels_final, epochs=num_epochs, \n",
        "                      validation_data=(testing_sequences, testing_labels_final))\n",
        "  return history\n",
        "\n",
        "def plot_results (history):\n",
        "  plot_graphs(history, \"accuracy\")\n",
        "  plot_graphs(history, \"loss\")\n",
        "\n",
        "def fit_model_and_show_results (model, sentences):\n",
        "  history = fit_model_now(model, sentences)\n",
        "  plot_results(history)\n",
        "  predict_review(model, sentences)"
      ]
    },
    {
      "cell_type": "markdown",
      "metadata": {
        "id": "U13JBiJUG1oq"
      },
      "source": [
        "# Add a bidirectional LSTM\n",
        "\n",
        "Create a new model that uses a bidirectional LSTM.\n",
        "\n",
        "Then use the function we have already defined to compile the model, train it, graph the accuracy and loss, then predict some results."
      ]
    },
    {
      "cell_type": "code",
      "execution_count": 17,
      "metadata": {
        "id": "scTUsFPAG4zP",
        "outputId": "4fb8f412-9167-4438-f3ae-ea9c75630a61",
        "colab": {
          "base_uri": "https://localhost:8080/",
          "height": 1000
        }
      },
      "outputs": [
        {
          "output_type": "stream",
          "name": "stdout",
          "text": [
            "Model: \"sequential_1\"\n",
            "_________________________________________________________________\n",
            " Layer (type)                Output Shape              Param #   \n",
            "=================================================================\n",
            " embedding_1 (Embedding)     (None, 50, 16)            16000     \n",
            "                                                                 \n",
            " bidirectional (Bidirectiona  (None, 32)               4224      \n",
            " l)                                                              \n",
            "                                                                 \n",
            " dense_2 (Dense)             (None, 6)                 198       \n",
            "                                                                 \n",
            " dense_3 (Dense)             (None, 1)                 7         \n",
            "                                                                 \n",
            "=================================================================\n",
            "Total params: 20,429\n",
            "Trainable params: 20,429\n",
            "Non-trainable params: 0\n",
            "_________________________________________________________________\n",
            "Epoch 1/30\n",
            "50/50 [==============================] - 8s 44ms/step - loss: 0.6877 - accuracy: 0.5330 - val_loss: 0.6945 - val_accuracy: 0.4311\n",
            "Epoch 2/30\n",
            "50/50 [==============================] - 1s 24ms/step - loss: 0.6322 - accuracy: 0.6503 - val_loss: 0.5881 - val_accuracy: 0.7343\n",
            "Epoch 3/30\n",
            "50/50 [==============================] - 1s 24ms/step - loss: 0.4513 - accuracy: 0.8161 - val_loss: 0.6284 - val_accuracy: 0.7068\n",
            "Epoch 4/30\n",
            "50/50 [==============================] - 1s 24ms/step - loss: 0.3189 - accuracy: 0.8795 - val_loss: 0.5530 - val_accuracy: 0.7519\n",
            "Epoch 5/30\n",
            "50/50 [==============================] - 1s 24ms/step - loss: 0.2339 - accuracy: 0.9134 - val_loss: 0.5874 - val_accuracy: 0.7619\n",
            "Epoch 6/30\n",
            "50/50 [==============================] - 1s 24ms/step - loss: 0.1886 - accuracy: 0.9366 - val_loss: 0.5986 - val_accuracy: 0.7469\n",
            "Epoch 7/30\n",
            "50/50 [==============================] - 1s 25ms/step - loss: 0.1773 - accuracy: 0.9422 - val_loss: 0.7616 - val_accuracy: 0.7393\n",
            "Epoch 8/30\n",
            "50/50 [==============================] - 1s 24ms/step - loss: 0.1258 - accuracy: 0.9680 - val_loss: 0.9170 - val_accuracy: 0.7393\n",
            "Epoch 9/30\n",
            "50/50 [==============================] - 1s 24ms/step - loss: 0.0907 - accuracy: 0.9805 - val_loss: 0.8428 - val_accuracy: 0.7343\n",
            "Epoch 10/30\n",
            "50/50 [==============================] - 1s 24ms/step - loss: 0.0718 - accuracy: 0.9837 - val_loss: 1.1151 - val_accuracy: 0.7393\n",
            "Epoch 11/30\n",
            "50/50 [==============================] - 1s 24ms/step - loss: 0.0657 - accuracy: 0.9881 - val_loss: 1.1553 - val_accuracy: 0.7419\n",
            "Epoch 12/30\n",
            "50/50 [==============================] - 1s 24ms/step - loss: 0.0769 - accuracy: 0.9812 - val_loss: 0.9638 - val_accuracy: 0.7444\n",
            "Epoch 13/30\n",
            "50/50 [==============================] - 1s 24ms/step - loss: 0.0618 - accuracy: 0.9868 - val_loss: 1.0189 - val_accuracy: 0.7494\n",
            "Epoch 14/30\n",
            "50/50 [==============================] - 1s 24ms/step - loss: 0.0608 - accuracy: 0.9868 - val_loss: 1.0089 - val_accuracy: 0.7544\n",
            "Epoch 15/30\n",
            "50/50 [==============================] - 1s 24ms/step - loss: 0.0453 - accuracy: 0.9925 - val_loss: 1.1841 - val_accuracy: 0.7318\n",
            "Epoch 16/30\n",
            "50/50 [==============================] - 1s 25ms/step - loss: 0.0414 - accuracy: 0.9931 - val_loss: 1.1582 - val_accuracy: 0.7393\n",
            "Epoch 17/30\n",
            "50/50 [==============================] - 1s 25ms/step - loss: 0.0397 - accuracy: 0.9931 - val_loss: 1.1668 - val_accuracy: 0.7469\n",
            "Epoch 18/30\n",
            "50/50 [==============================] - 1s 24ms/step - loss: 0.0386 - accuracy: 0.9931 - val_loss: 1.1938 - val_accuracy: 0.7419\n",
            "Epoch 19/30\n",
            "50/50 [==============================] - 1s 24ms/step - loss: 0.0369 - accuracy: 0.9931 - val_loss: 1.1862 - val_accuracy: 0.7544\n",
            "Epoch 20/30\n",
            "50/50 [==============================] - 1s 24ms/step - loss: 0.0353 - accuracy: 0.9937 - val_loss: 1.2557 - val_accuracy: 0.7469\n",
            "Epoch 21/30\n",
            "50/50 [==============================] - 1s 24ms/step - loss: 0.0347 - accuracy: 0.9937 - val_loss: 1.2772 - val_accuracy: 0.7393\n",
            "Epoch 22/30\n",
            "50/50 [==============================] - 1s 24ms/step - loss: 0.0342 - accuracy: 0.9937 - val_loss: 1.2759 - val_accuracy: 0.7444\n",
            "Epoch 23/30\n",
            "50/50 [==============================] - 1s 24ms/step - loss: 0.0336 - accuracy: 0.9937 - val_loss: 1.2877 - val_accuracy: 0.7469\n",
            "Epoch 24/30\n",
            "50/50 [==============================] - 1s 24ms/step - loss: 0.0330 - accuracy: 0.9937 - val_loss: 1.2516 - val_accuracy: 0.7569\n",
            "Epoch 25/30\n",
            "50/50 [==============================] - 1s 25ms/step - loss: 0.0324 - accuracy: 0.9937 - val_loss: 1.3037 - val_accuracy: 0.7519\n",
            "Epoch 26/30\n",
            "50/50 [==============================] - 1s 24ms/step - loss: 0.0399 - accuracy: 0.9900 - val_loss: 1.3224 - val_accuracy: 0.7343\n",
            "Epoch 27/30\n",
            "50/50 [==============================] - 1s 24ms/step - loss: 0.0877 - accuracy: 0.9793 - val_loss: 1.0758 - val_accuracy: 0.7519\n",
            "Epoch 28/30\n",
            "50/50 [==============================] - 1s 24ms/step - loss: 0.0677 - accuracy: 0.9780 - val_loss: 1.0765 - val_accuracy: 0.7619\n",
            "Epoch 29/30\n",
            "50/50 [==============================] - 1s 24ms/step - loss: 0.0455 - accuracy: 0.9881 - val_loss: 1.2259 - val_accuracy: 0.7368\n",
            "Epoch 30/30\n",
            "50/50 [==============================] - 1s 24ms/step - loss: 0.0248 - accuracy: 0.9956 - val_loss: 1.3382 - val_accuracy: 0.7368\n"
          ]
        },
        {
          "output_type": "display_data",
          "data": {
            "text/plain": [
              "<Figure size 432x288 with 1 Axes>"
            ],
            "image/png": "[encoded data removed]"
          },
          "metadata": {
            "needs_background": "light"
          }
        },
        {
          "output_type": "display_data",
          "data": {
            "text/plain": [
              "<Figure size 432x288 with 1 Axes>"
            ],
            "image/png": "[encoded data removed]"
          },
          "metadata": {
            "needs_background": "light"
          }
        },
        {
          "output_type": "stream",
          "name": "stdout",
          "text": [
            "[  4 281  16  25   0   0   0   0   0   0   0   0   0   0   0   0   0   0\n",
            "   0   0   0   0   0   0   0   0   0   0   0   0   0   0   0   0   0   0\n",
            "   0   0   0   0   0   0   0   0   0   0   0   0   0   0]\n",
            "I love this phone\n",
            "[0.99971384]\n",
            "\n",
            "\n",
            "[812 227 864 100 775   9 525 843   0   0   0   0   0   0   0   0   0   0\n",
            "   0   0   0   0   0   0   0   0   0   0   0   0   0   0   0   0   0   0\n",
            "   0   0   0   0   0   0   0   0   0   0   0   0   0   0]\n",
            "Everything was cold\n",
            "[0.18239212]\n",
            "\n",
            "\n",
            "[812 227 864 100 775   9 109   8 333 731  24  61   4 171  59  77   0   0\n",
            "   0   0   0   0   0   0   0   0   0   0   0   0   0   0   0   0   0   0\n",
            "   0   0   0   0   0   0   0   0   0   0   0   0   0   0]\n",
            "Everything was hot exactly as I wanted\n",
            "[0.99800533]\n",
            "\n",
            "\n",
            "[812 227 864 100 775   9 157 359 853   0   0   0   0   0   0   0   0   0\n",
            "   0   0   0   0   0   0   0   0   0   0   0   0   0   0   0   0   0   0\n",
            "   0   0   0   0   0   0   0   0   0   0   0   0   0   0]\n",
            "Everything was green\n",
            "[0.39701834]\n",
            "\n",
            "\n",
            "[  1 109 228 540 237 635 241 423 340  89 298   0   0   0   0   0   0   0\n",
            "   0   0   0   0   0   0   0   0   0   0   0   0   0   0   0   0   0   0\n",
            "   0   0   0   0   0   0   0   0   0   0   0   0   0   0]\n",
            "the host seated us immediately\n",
            "[0.99460125]\n",
            "\n",
            "\n",
            "[154 242  47 635 341  12 569 547 147 319 775 125  85   0   0   0   0   0\n",
            "   0   0   0   0   0   0   0   0   0   0   0   0   0   0   0   0   0   0\n",
            "   0   0   0   0   0   0   0   0   0   0   0   0   0   0]\n",
            "they gave us free chocolate cake\n",
            "[0.99464095]\n",
            "\n",
            "\n",
            "[158 190 853 782   8 607 775 210 232 146 775 470  67 305 101  15   1 328\n",
            " 296  26  19   1 661 641 195   0   0   0   0   0   0   0   0   0   0   0\n",
            "   0   0   0   0   0   0   0   0   0   0   0   0   0   0]\n",
            "we couldn't hear each other talk because of the shouting in the kitchen\n",
            "[0.00777089]\n",
            "\n",
            "\n"
          ]
        }
      ],
      "source": [
        "# Define the model\n",
        "model_bidi_lstm = tf.keras.Sequential([\n",
        "    tf.keras.layers.Embedding(vocab_size, embedding_dim, input_length=max_length),\n",
        "    tf.keras.layers.Bidirectional(tf.keras.layers.LSTM(embedding_dim)), \n",
        "    tf.keras.layers.Dense(6, activation='relu'), \n",
        "    tf.keras.layers.Dense(1, activation='sigmoid')\n",
        "])\n",
        "\n",
        "# Compile and train the model and then show the predictions for our extra sentences\n",
        "fit_model_and_show_results(model_bidi_lstm, fake_reviews)\n"
      ]
    },
    {
      "cell_type": "markdown",
      "metadata": {
        "id": "QsxKPbCnPJTj"
      },
      "source": [
        "# Use multiple bidirectional layers\n",
        "\n",
        "Now let's see if we get any improvements from adding another Bidirectional LSTM layer to the model.\n",
        "\n",
        "Notice that the first Bidirectionl LSTM layer returns a sequence."
      ]
    },
    {
      "cell_type": "code",
      "execution_count": 18,
      "metadata": {
        "id": "3N6Zul47PMED",
        "outputId": "b161ff84-98a6-4f7a-e9ac-9184865e4b09",
        "colab": {
          "base_uri": "https://localhost:8080/",
          "height": 1000
        }
      },
      "outputs": [
        {
          "output_type": "stream",
          "name": "stdout",
          "text": [
            "Model: \"sequential_2\"\n",
            "_________________________________________________________________\n",
            " Layer (type)                Output Shape              Param #   \n",
            "=================================================================\n",
            " embedding_2 (Embedding)     (None, 50, 16)            16000     \n",
            "                                                                 \n",
            " bidirectional_1 (Bidirectio  (None, 50, 32)           4224      \n",
            " nal)                                                            \n",
            "                                                                 \n",
            " bidirectional_2 (Bidirectio  (None, 32)               6272      \n",
            " nal)                                                            \n",
            "                                                                 \n",
            " dense_4 (Dense)             (None, 6)                 198       \n",
            "                                                                 \n",
            " dense_5 (Dense)             (None, 1)                 7         \n",
            "                                                                 \n",
            "=================================================================\n",
            "Total params: 26,701\n",
            "Trainable params: 26,701\n",
            "Non-trainable params: 0\n",
            "_________________________________________________________________\n",
            "Epoch 1/30\n",
            "50/50 [==============================] - 11s 88ms/step - loss: 0.6929 - accuracy: 0.5035 - val_loss: 0.6985 - val_accuracy: 0.4110\n",
            "Epoch 2/30\n",
            "50/50 [==============================] - 2s 48ms/step - loss: 0.6784 - accuracy: 0.5700 - val_loss: 0.6821 - val_accuracy: 0.5363\n",
            "Epoch 3/30\n",
            "50/50 [==============================] - 2s 49ms/step - loss: 0.5107 - accuracy: 0.7759 - val_loss: 0.5310 - val_accuracy: 0.7469\n",
            "Epoch 4/30\n",
            "50/50 [==============================] - 2s 49ms/step - loss: 0.3315 - accuracy: 0.8694 - val_loss: 0.4972 - val_accuracy: 0.7845\n",
            "Epoch 5/30\n",
            "50/50 [==============================] - 2s 48ms/step - loss: 0.2538 - accuracy: 0.9065 - val_loss: 0.5253 - val_accuracy: 0.7594\n",
            "Epoch 6/30\n",
            "50/50 [==============================] - 2s 49ms/step - loss: 0.1981 - accuracy: 0.9303 - val_loss: 0.6765 - val_accuracy: 0.7544\n",
            "Epoch 7/30\n",
            "50/50 [==============================] - 2s 48ms/step - loss: 0.1536 - accuracy: 0.9485 - val_loss: 0.7839 - val_accuracy: 0.7368\n",
            "Epoch 8/30\n",
            "50/50 [==============================] - 2s 48ms/step - loss: 0.1248 - accuracy: 0.9623 - val_loss: 0.8274 - val_accuracy: 0.7343\n",
            "Epoch 9/30\n",
            "50/50 [==============================] - 2s 48ms/step - loss: 0.1073 - accuracy: 0.9686 - val_loss: 0.8429 - val_accuracy: 0.7469\n",
            "Epoch 10/30\n",
            "50/50 [==============================] - 2s 49ms/step - loss: 0.0754 - accuracy: 0.9818 - val_loss: 0.8976 - val_accuracy: 0.7494\n",
            "Epoch 11/30\n",
            "50/50 [==============================] - 2s 48ms/step - loss: 0.0781 - accuracy: 0.9793 - val_loss: 0.9241 - val_accuracy: 0.7444\n",
            "Epoch 12/30\n",
            "50/50 [==============================] - 2s 49ms/step - loss: 0.0829 - accuracy: 0.9780 - val_loss: 1.2449 - val_accuracy: 0.7018\n",
            "Epoch 13/30\n",
            "50/50 [==============================] - 2s 49ms/step - loss: 0.0827 - accuracy: 0.9780 - val_loss: 1.1957 - val_accuracy: 0.7193\n",
            "Epoch 14/30\n",
            "50/50 [==============================] - 2s 48ms/step - loss: 0.0716 - accuracy: 0.9812 - val_loss: 0.9764 - val_accuracy: 0.7569\n",
            "Epoch 15/30\n",
            "50/50 [==============================] - 2s 48ms/step - loss: 0.0561 - accuracy: 0.9887 - val_loss: 1.1223 - val_accuracy: 0.7318\n",
            "Epoch 16/30\n",
            "50/50 [==============================] - 2s 48ms/step - loss: 0.0489 - accuracy: 0.9906 - val_loss: 1.1106 - val_accuracy: 0.7393\n",
            "Epoch 17/30\n",
            "50/50 [==============================] - 2s 48ms/step - loss: 0.0527 - accuracy: 0.9887 - val_loss: 1.1315 - val_accuracy: 0.7494\n",
            "Epoch 18/30\n",
            "50/50 [==============================] - 2s 49ms/step - loss: 0.0499 - accuracy: 0.9893 - val_loss: 1.1943 - val_accuracy: 0.7318\n",
            "Epoch 19/30\n",
            "50/50 [==============================] - 2s 49ms/step - loss: 0.0500 - accuracy: 0.9900 - val_loss: 1.1566 - val_accuracy: 0.7494\n",
            "Epoch 20/30\n",
            "50/50 [==============================] - 2s 48ms/step - loss: 0.0491 - accuracy: 0.9906 - val_loss: 1.1536 - val_accuracy: 0.7544\n",
            "Epoch 21/30\n",
            "50/50 [==============================] - 2s 48ms/step - loss: 0.0447 - accuracy: 0.9918 - val_loss: 1.1144 - val_accuracy: 0.7569\n",
            "Epoch 22/30\n",
            "50/50 [==============================] - 2s 49ms/step - loss: 0.0467 - accuracy: 0.9893 - val_loss: 1.2556 - val_accuracy: 0.7393\n",
            "Epoch 23/30\n",
            "50/50 [==============================] - 2s 49ms/step - loss: 0.0510 - accuracy: 0.9887 - val_loss: 1.1361 - val_accuracy: 0.7519\n",
            "Epoch 24/30\n",
            "50/50 [==============================] - 2s 48ms/step - loss: 0.0599 - accuracy: 0.9843 - val_loss: 1.4835 - val_accuracy: 0.7118\n",
            "Epoch 25/30\n",
            "50/50 [==============================] - 2s 49ms/step - loss: 0.0913 - accuracy: 0.9749 - val_loss: 1.0791 - val_accuracy: 0.7318\n",
            "Epoch 26/30\n",
            "50/50 [==============================] - 2s 49ms/step - loss: 0.0679 - accuracy: 0.9824 - val_loss: 1.0904 - val_accuracy: 0.7469\n",
            "Epoch 27/30\n",
            "50/50 [==============================] - 2s 49ms/step - loss: 0.0485 - accuracy: 0.9906 - val_loss: 1.1552 - val_accuracy: 0.7343\n",
            "Epoch 28/30\n",
            "50/50 [==============================] - 2s 49ms/step - loss: 0.0420 - accuracy: 0.9925 - val_loss: 1.2096 - val_accuracy: 0.7268\n",
            "Epoch 29/30\n",
            "50/50 [==============================] - 2s 48ms/step - loss: 0.0403 - accuracy: 0.9925 - val_loss: 1.2409 - val_accuracy: 0.7243\n",
            "Epoch 30/30\n",
            "50/50 [==============================] - 2s 48ms/step - loss: 0.0395 - accuracy: 0.9925 - val_loss: 1.2237 - val_accuracy: 0.7293\n"
          ]
        },
        {
          "output_type": "display_data",
          "data": {
            "text/plain": [
              "<Figure size 432x288 with 1 Axes>"
            ],
            "image/png": "[encoded data removed]"
          },
          "metadata": {
            "needs_background": "light"
          }
        },
        {
          "output_type": "display_data",
          "data": {
            "text/plain": [
              "<Figure size 432x288 with 1 Axes>"
            ],
            "image/png": "[encoded data removed]"
          },
          "metadata": {
            "needs_background": "light"
          }
        },
        {
          "output_type": "stream",
          "name": "stdout",
          "text": [
            "[  4 281  16  25   0   0   0   0   0   0   0   0   0   0   0   0   0   0\n",
            "   0   0   0   0   0   0   0   0   0   0   0   0   0   0   0   0   0   0\n",
            "   0   0   0   0   0   0   0   0   0   0   0   0   0   0]\n",
            "I love this phone\n",
            "[0.99919206]\n",
            "\n",
            "\n",
            "[812 227 864 100 775   9 525 843   0   0   0   0   0   0   0   0   0   0\n",
            "   0   0   0   0   0   0   0   0   0   0   0   0   0   0   0   0   0   0\n",
            "   0   0   0   0   0   0   0   0   0   0   0   0   0   0]\n",
            "Everything was cold\n",
            "[0.01463548]\n",
            "\n",
            "\n",
            "[812 227 864 100 775   9 109   8 333 731  24  61   4 171  59  77   0   0\n",
            "   0   0   0   0   0   0   0   0   0   0   0   0   0   0   0   0   0   0\n",
            "   0   0   0   0   0   0   0   0   0   0   0   0   0   0]\n",
            "Everything was hot exactly as I wanted\n",
            "[0.0847711]\n",
            "\n",
            "\n",
            "[812 227 864 100 775   9 157 359 853   0   0   0   0   0   0   0   0   0\n",
            "   0   0   0   0   0   0   0   0   0   0   0   0   0   0   0   0   0   0\n",
            "   0   0   0   0   0   0   0   0   0   0   0   0   0   0]\n",
            "Everything was green\n",
            "[0.01498087]\n",
            "\n",
            "\n",
            "[  1 109 228 540 237 635 241 423 340  89 298   0   0   0   0   0   0   0\n",
            "   0   0   0   0   0   0   0   0   0   0   0   0   0   0   0   0   0   0\n",
            "   0   0   0   0   0   0   0   0   0   0   0   0   0   0]\n",
            "the host seated us immediately\n",
            "[0.01399968]\n",
            "\n",
            "\n",
            "[154 242  47 635 341  12 569 547 147 319 775 125  85   0   0   0   0   0\n",
            "   0   0   0   0   0   0   0   0   0   0   0   0   0   0   0   0   0   0\n",
            "   0   0   0   0   0   0   0   0   0   0   0   0   0   0]\n",
            "they gave us free chocolate cake\n",
            "[0.9988299]\n",
            "\n",
            "\n",
            "[158 190 853 782   8 607 775 210 232 146 775 470  67 305 101  15   1 328\n",
            " 296  26  19   1 661 641 195   0   0   0   0   0   0   0   0   0   0   0\n",
            "   0   0   0   0   0   0   0   0   0   0   0   0   0   0]\n",
            "we couldn't hear each other talk because of the shouting in the kitchen\n",
            "[0.01302583]\n",
            "\n",
            "\n"
          ]
        }
      ],
      "source": [
        "model_multiple_bidi_lstm = tf.keras.Sequential([\n",
        "    tf.keras.layers.Embedding(vocab_size, embedding_dim, input_length=max_length),\n",
        "    tf.keras.layers.Bidirectional(tf.keras.layers.LSTM(embedding_dim, \n",
        "                                                       return_sequences=True)), \n",
        "    tf.keras.layers.Bidirectional(tf.keras.layers.LSTM(embedding_dim)),\n",
        "    tf.keras.layers.Dense(6, activation='relu'),\n",
        "    tf.keras.layers.Dense(1, activation='sigmoid')\n",
        "])\n",
        "\n",
        "fit_model_and_show_results(model_multiple_bidi_lstm, fake_reviews)"
      ]
    },
    {
      "cell_type": "markdown",
      "metadata": {
        "id": "ABVYYPwba8Hx"
      },
      "source": [
        "# Compare predictions for all the models\n",
        "\n",
        "It can be hard to see which model gives a better prediction for different reviews when you examine each model separately. So for comparison purposes, here we define some more reviews and print out the predictions that each of the three models gives for each review:\n",
        "\n",
        "*   Embeddings and a Global Average Pooling layer\n",
        "*   Embeddings and a Bidirectional LSTM layer\n",
        "*   Embeddings and two Bidirectional LSTM layers\n",
        "\n",
        "The results are not always what you might expect. The input dataset is fairly small, it has less than 2000 reviews. Some of the reviews are fairly short, and some of the short ones are fairly repetitive which reduces their impact on improving the  model, such as these two reviews:\n",
        "\n",
        "*   Bad Quality.\n",
        "*   Low Quality.\n",
        "\n",
        "Feel free to add more reviews of your own, or change the reviews. The results will depend on the combination of words in the reviews, and how well they match to reviews in the training set. \n",
        "\n",
        "How do the different models handle things like \"wasn't good\" which contains a positive word (good) but is a poor review?\n"
      ]
    },
    {
      "cell_type": "code",
      "execution_count": 19,
      "metadata": {
        "id": "6XebrXt0jtOy"
      },
      "outputs": [],
      "source": [
        "my_reviews =[\"lovely\", \"dreadful\", \"stay away\",\n",
        "             \"everything was hot exactly as I wanted\",\n",
        "             \"everything was not exactly as I wanted\",\n",
        "             \"they gave us free chocolate cake\",\n",
        "             \"I've never eaten anything so spicy in my life, my throat burned for hours\",\n",
        "             \"for a phone that is as expensive as this one I expect it to be much easier to use than this thing is\",\n",
        "             \"we left there very full for a low price so I'd say you just can't go wrong at this place\",\n",
        "             \"that place does not have quality meals and it isn't a good place to go for dinner\",\n",
        "             ]"
      ]
    },
    {
      "cell_type": "code",
      "execution_count": 20,
      "metadata": {
        "id": "tRWGjkJLkY2y",
        "outputId": "0514e00d-0206-44c6-ac1b-a2b982b4c29e",
        "colab": {
          "base_uri": "https://localhost:8080/"
        }
      },
      "outputs": [
        {
          "output_type": "stream",
          "name": "stdout",
          "text": [
            "===================================\n",
            " Embeddings only:\n",
            " ===================================\n",
            "lovely\n",
            "[0.9234348]\n",
            "\n",
            "\n",
            "dreadful\n",
            "[0.3062285]\n",
            "\n",
            "\n",
            "stay away\n",
            "[0.64392954]\n",
            "\n",
            "\n",
            "everything was hot exactly as I wanted\n",
            "[0.75964165]\n",
            "\n",
            "\n",
            "everything was not exactly as I wanted\n",
            "[0.538365]\n",
            "\n",
            "\n",
            "they gave us free chocolate cake\n",
            "[0.7103803]\n",
            "\n",
            "\n",
            "I've never eaten anything so spicy in my life, my throat burned for hours\n",
            "[0.01990318]\n",
            "\n",
            "\n",
            "for a phone that is as expensive as this one I expect it to be much easier to use than this thing is\n",
            "[0.5386076]\n",
            "\n",
            "\n",
            "we left there very full for a low price so I'd say you just can't go wrong at this place\n",
            "[0.79170513]\n",
            "\n",
            "\n",
            "that place does not have quality meals and it isn't a good place to go for dinner\n",
            "[0.85246986]\n",
            "\n",
            "\n"
          ]
        }
      ],
      "source": [
        "print(\"===================================\\n\",\"Embeddings only:\\n\", \"===================================\",)\n",
        "predict_review(model, my_reviews, show_padded_sequence=False)"
      ]
    },
    {
      "cell_type": "code",
      "execution_count": 21,
      "metadata": {
        "id": "G2FJR3IVBt30",
        "outputId": "21a70025-1a53-476c-c09d-f85b9d858135",
        "colab": {
          "base_uri": "https://localhost:8080/"
        }
      },
      "outputs": [
        {
          "output_type": "stream",
          "name": "stdout",
          "text": [
            "===================================\n",
            " With a single bidirectional LSTM:\n",
            " ===================================\n",
            "lovely\n",
            "[0.9973188]\n",
            "\n",
            "\n",
            "dreadful\n",
            "[0.00881115]\n",
            "\n",
            "\n",
            "stay away\n",
            "[0.01421869]\n",
            "\n",
            "\n",
            "everything was hot exactly as I wanted\n",
            "[0.99969554]\n",
            "\n",
            "\n",
            "everything was not exactly as I wanted\n",
            "[0.07134269]\n",
            "\n",
            "\n",
            "they gave us free chocolate cake\n",
            "[0.99464095]\n",
            "\n",
            "\n",
            "I've never eaten anything so spicy in my life, my throat burned for hours\n",
            "[0.97459036]\n",
            "\n",
            "\n",
            "for a phone that is as expensive as this one I expect it to be much easier to use than this thing is\n",
            "[0.01591049]\n",
            "\n",
            "\n",
            "we left there very full for a low price so I'd say you just can't go wrong at this place\n",
            "[0.99998534]\n",
            "\n",
            "\n",
            "that place does not have quality meals and it isn't a good place to go for dinner\n",
            "[0.49479595]\n",
            "\n",
            "\n"
          ]
        }
      ],
      "source": [
        "print(\"===================================\\n\", \"With a single bidirectional LSTM:\\n\", \"===================================\")\n",
        "predict_review(model_bidi_lstm, my_reviews, show_padded_sequence=False)"
      ]
    },
    {
      "cell_type": "code",
      "execution_count": 22,
      "metadata": {
        "id": "81v1r3Y2BwvC",
        "outputId": "b0259b3a-6f2b-453d-dc34-af10f205291f",
        "colab": {
          "base_uri": "https://localhost:8080/"
        }
      },
      "outputs": [
        {
          "output_type": "stream",
          "name": "stdout",
          "text": [
            "===================================\n",
            " With two bidirectional LSTMs:\n",
            " ===================================\n",
            "lovely\n",
            "[0.9990336]\n",
            "\n",
            "\n",
            "dreadful\n",
            "[0.0138212]\n",
            "\n",
            "\n",
            "stay away\n",
            "[0.01549292]\n",
            "\n",
            "\n",
            "everything was hot exactly as I wanted\n",
            "[0.99825805]\n",
            "\n",
            "\n",
            "everything was not exactly as I wanted\n",
            "[0.04533951]\n",
            "\n",
            "\n",
            "they gave us free chocolate cake\n",
            "[0.9988299]\n",
            "\n",
            "\n",
            "I've never eaten anything so spicy in my life, my throat burned for hours\n",
            "[0.01497127]\n",
            "\n",
            "\n",
            "for a phone that is as expensive as this one I expect it to be much easier to use than this thing is\n",
            "[0.01168393]\n",
            "\n",
            "\n",
            "we left there very full for a low price so I'd say you just can't go wrong at this place\n",
            "[0.9842275]\n",
            "\n",
            "\n",
            "that place does not have quality meals and it isn't a good place to go for dinner\n",
            "[0.9696745]\n",
            "\n",
            "\n"
          ]
        }
      ],
      "source": [
        "print(\"===================================\\n\",\"With two bidirectional LSTMs:\\n\", \"===================================\")\n",
        "predict_review(model_multiple_bidi_lstm, my_reviews, show_padded_sequence=False)"
      ]
    }
  ],
  "metadata": {
    "accelerator": "GPU",
    "colab": {
      "name": "l10c01_nlp_lstms_with_reviews_subwords_dataset.ipynb",
      "toc_visible": true,
      "provenance": [],
      "include_colab_link": true
    },
    "kernelspec": {
      "display_name": "Python 3",
      "name": "python3"
    }
  },
  "nbformat": 4,
  "nbformat_minor": 0
}